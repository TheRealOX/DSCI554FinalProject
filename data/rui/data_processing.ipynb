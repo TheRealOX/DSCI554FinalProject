{
 "cells": [
  {
   "cell_type": "markdown",
   "metadata": {},
   "source": []
  },
  {
   "cell_type": "code",
   "execution_count": 1,
   "metadata": {},
   "outputs": [],
   "source": [
    "import csv \n",
    "import json \n",
    "\n",
    "def csv_to_json(csvFilePath, jsonFilePath):\n",
    "    jsonArray = []\n",
    "      \n",
    "    #read csv file\n",
    "    with open(csvFilePath, encoding='utf-8') as csvf: \n",
    "        #load csv file data using csv library's dictionary reader\n",
    "        csvReader = csv.DictReader(csvf) \n",
    "\n",
    "        #convert each csv row into python dict\n",
    "        for row in csvReader: \n",
    "            #add this python dict to json array\n",
    "            jsonArray.append(row)\n",
    "  \n",
    "    #convert python jsonArray to JSON String and write to file\n",
    "    with open(jsonFilePath, 'w', encoding='utf-8') as jsonf: \n",
    "        jsonString = json.dumps(jsonArray, indent=4)\n",
    "        jsonf.write(jsonString)"
   ]
  },
  {
   "cell_type": "code",
   "execution_count": 2,
   "metadata": {},
   "outputs": [],
   "source": [
    "csv_to_json('winner_2000.csv', 'winner_2000.json')"
   ]
  },
  {
   "cell_type": "code",
   "execution_count": 3,
   "metadata": {},
   "outputs": [],
   "source": [
    "csv_to_json('runner_2000.csv', 'runner_2000.json')"
   ]
  },
  {
   "cell_type": "code",
   "execution_count": 4,
   "metadata": {},
   "outputs": [],
   "source": [
    "import json\n",
    "  \n",
    "# reading the data from the file\n",
    "with open('winner_2000.json') as f:\n",
    "    d = f.read()\n",
    "        \n",
    "# reconstructing the data as a dictionary\n",
    "data = json.loads(d)"
   ]
  },
  {
   "cell_type": "code",
   "execution_count": 5,
   "metadata": {},
   "outputs": [],
   "source": [
    "with open('runner_2000.json') as f_:\n",
    "    d_ = f_.read()\n",
    "        \n",
    "# reconstructing the data as a dictionary\n",
    "data_ = json.loads(d_)"
   ]
  },
  {
   "cell_type": "code",
   "execution_count": 6,
   "metadata": {},
   "outputs": [],
   "source": [
    "final_dict = {}\n",
    "\n",
    "for game in data:\n",
    "    year = game['Year']\n",
    "    team = game['Team']\n",
    "\n",
    "    id = year + '-' + team\n",
    "\n",
    "    if id not in final_dict:\n",
    "        final_dict[id] = {\n",
    "            \"Year\": game['Year'],\n",
    "            \"Team\": game['Team'],\n",
    "            \"Total_Win\": int(game['Win']),\n",
    "            \"Total_Game\": 1,\n",
    "            \"Home_Game\": int(game['Home']),\n",
    "            \"FG\": int(game['FG']),\n",
    "            \"FGA\": int(game['FGA']),\n",
    "            \"TP\": int(game[\"TP\"]),\n",
    "            \"TPA\": int(game[\"TP\"]),\n",
    "            \"FT\": int(game[\"FT\"]),\n",
    "            \"FTA\": int(game[\"FTA\"]),\n",
    "            \"ORB\": int(game[\"ORB\"]),\n",
    "            \"DRB\": int(game[\"DRB\"]),\n",
    "            \"TRB\": int(game[\"TRB\"]),\n",
    "            \"AST\": int(game[\"AST\"]),\n",
    "            \"STL\":int(game[ \"STL\"]),\n",
    "            \"BLK\":int(game[\"BLK\"]),\n",
    "            \"TOV\": int(game[\"TOV\"]),\n",
    "            \"PF\": int(game[\"PF\"]),\n",
    "            \"PTS\": int(game[\"PTS\"])\n",
    "        }\n",
    "    else:\n",
    "        final_dict[id][\"Total_Game\"] += 1\n",
    "        final_dict[id][\"Home_Game\"] += int(game['Home'])\n",
    "        final_dict[id][\"Total_Win\"] += int(game['Win'])\n",
    "        final_dict[id][\"FG\"] += int(game['FG'])\n",
    "        final_dict[id][\"FGA\"] += int(game['FGA'])\n",
    "        final_dict[id][\"TP\"] += int(game['TP'])\n",
    "        final_dict[id][\"TPA\"] += int(game['TPA'])\n",
    "        final_dict[id][\"FT\"] += int(game['FT'])\n",
    "        final_dict[id][\"FTA\"] += int(game['FTA'])\n",
    "        final_dict[id][\"ORB\"] += int(game['ORB'])\n",
    "        final_dict[id][\"DRB\"] += int(game['DRB'])\n",
    "        final_dict[id][\"TRB\"] += int(game['TRB'])\n",
    "        final_dict[id][\"AST\"] += int(game['AST'])\n",
    "        final_dict[id][\"STL\"] += int(game['STL'])\n",
    "        final_dict[id][\"BLK\"] += int(game['BLK'])\n",
    "        final_dict[id][\"TOV\"] += int(game['FG'])\n",
    "        final_dict[id][\"PF\"] += int(game['FG'])\n",
    "        final_dict[id][\"PTS\"] += int(game['PTS'])"
   ]
  },
  {
   "cell_type": "code",
   "execution_count": 7,
   "metadata": {},
   "outputs": [],
   "source": [
    "for game in data_:\n",
    "    year = game['Year']\n",
    "    team = game['Team']\n",
    "\n",
    "    id = year + '-' + team\n",
    "\n",
    "    if id not in final_dict:\n",
    "        final_dict[id] = {\n",
    "            \"Year\": game['Year'],\n",
    "            \"Team\": game['Team'],\n",
    "            \"Total_Win\": int(game['Win']),\n",
    "            \"Total_Game\": 1,\n",
    "            \"Home_Game\": int(game['Home']),\n",
    "            \"FG\": int(game['FG']),\n",
    "            \"FGA\": int(game['FGA']),\n",
    "            \"TP\": int(game[\"TP\"]),\n",
    "            \"TPA\": int(game[\"TP\"]),\n",
    "            \"FT\": int(game[\"FT\"]),\n",
    "            \"FTA\": int(game[\"FTA\"]),\n",
    "            \"ORB\": int(game[\"ORB\"]),\n",
    "            \"DRB\": int(game[\"DRB\"]),\n",
    "            \"TRB\": int(game[\"TRB\"]),\n",
    "            \"AST\": int(game[\"AST\"]),\n",
    "            \"STL\": int(game[ \"STL\"]),\n",
    "            \"BLK\": int(game[\"BLK\"]),\n",
    "            \"TOV\": int(game[\"TOV\"]),\n",
    "            \"PF\": int(game[\"PF\"]),\n",
    "            \"PTS\": int(game[\"PTS\"])\n",
    "        }\n",
    "    else:\n",
    "        final_dict[id][\"Total_Game\"] += 1\n",
    "        final_dict[id][\"Home_Game\"] += int(game['Home'])\n",
    "        final_dict[id][\"Total_Win\"] += int(game['Win'])\n",
    "        final_dict[id][\"FG\"] += int(game['FG'])\n",
    "        final_dict[id][\"FGA\"] += int(game['FGA'])\n",
    "        final_dict[id][\"TP\"] += int(game['TP'])\n",
    "        final_dict[id][\"TPA\"] += int(game['TPA'])\n",
    "        final_dict[id][\"FT\"] += int(game['FT'])\n",
    "        final_dict[id][\"FTA\"] += int(game['FTA'])\n",
    "        final_dict[id][\"ORB\"] += int(game['ORB'])\n",
    "        final_dict[id][\"DRB\"] += int(game['DRB'])\n",
    "        final_dict[id][\"TRB\"] += int(game['TRB'])\n",
    "        final_dict[id][\"AST\"] += int(game['AST'])\n",
    "        final_dict[id][\"STL\"] += int(game['STL'])\n",
    "        final_dict[id][\"BLK\"] += int(game['BLK'])\n",
    "        final_dict[id][\"TOV\"] += int(game['FG'])\n",
    "        final_dict[id][\"PF\"] += int(game['FG'])\n",
    "        final_dict[id][\"PTS\"] += int(game['PTS'])"
   ]
  },
  {
   "cell_type": "code",
   "execution_count": 8,
   "metadata": {},
   "outputs": [
    {
     "data": {
      "text/plain": [
       "{'Year': '2000',\n",
       " 'Team': 'Lakers',\n",
       " 'Total_Win': 4,\n",
       " 'Total_Game': 6,\n",
       " 'Home_Game': 3,\n",
       " 'FG': 246,\n",
       " 'FGA': 512,\n",
       " 'TP': 35,\n",
       " 'TPA': 83,\n",
       " 'FT': 102,\n",
       " 'FTA': 179,\n",
       " 'ORB': 73,\n",
       " 'DRB': 175,\n",
       " 'TRB': 248,\n",
       " 'AST': 140,\n",
       " 'STL': 41,\n",
       " 'BLK': 31,\n",
       " 'TOV': 212,\n",
       " 'PF': 220,\n",
       " 'PTS': 629}"
      ]
     },
     "execution_count": 8,
     "metadata": {},
     "output_type": "execute_result"
    }
   ],
   "source": [
    "# Sum up & take avg\n",
    "# Team name + (Year)\n",
    "# Label Championship\n",
    "# Only take last 10 years data\n",
    "final_dict['2000-Lakers']"
   ]
  },
  {
   "cell_type": "code",
   "execution_count": 9,
   "metadata": {},
   "outputs": [],
   "source": [
    "for team in final_dict:\n",
    "    final_dict[team][\"AFGP\"] = round(final_dict[team][\"FG\"] / final_dict[team][\"Total_Game\"])\n",
    "    final_dict[team][\"ATPP\"] = round(final_dict[team][\"TP\"] / final_dict[team][\"Total_Game\"])\n",
    "    final_dict[team][\"AFTP\"] = round(final_dict[team][\"FT\"] / final_dict[team][\"Total_Game\"])\n",
    "    final_dict[team][\"ARBP\"] = round(final_dict[team][\"TRB\"] / final_dict[team][\"Total_Game\"])\n",
    "    final_dict[team][\"APTS\"] = round(final_dict[team][\"PTS\"] / final_dict[team][\"Total_Game\"])\n",
    "    final_dict[team][\"ATOV\"] = round(final_dict[team][\"TOV\"] / final_dict[team][\"Total_Game\"])\n",
    "    final_dict[team][\"FGP\"] = round(final_dict[team][\"FG\"] / final_dict[team][\"FGA\"],2)\n",
    "    final_dict[team][\"TPP\"] = round(final_dict[team][\"TP\"] / final_dict[team][\"TPA\"],2)\n",
    "    final_dict[team][\"FTP\"] = round(final_dict[team][\"FT\"] / final_dict[team][\"FTA\"],2)\n",
    "    \n"
   ]
  },
  {
   "cell_type": "code",
   "execution_count": 10,
   "metadata": {},
   "outputs": [
    {
     "data": {
      "text/plain": [
       "38"
      ]
     },
     "execution_count": 10,
     "metadata": {},
     "output_type": "execute_result"
    }
   ],
   "source": [
    "len(final_dict.keys())"
   ]
  },
  {
   "cell_type": "code",
   "execution_count": 11,
   "metadata": {},
   "outputs": [],
   "source": [
    "want = ['Total_Win', 'Total_Game', 'Home_Game','AFGP','ATPP','AFTP', 'ARBP', 'APTS','FGP','TPP', 'FTP', 'ATOV', 'Year']"
   ]
  },
  {
   "cell_type": "code",
   "execution_count": 12,
   "metadata": {},
   "outputs": [],
   "source": [
    "import csv\n",
    "\n",
    "with open('finals.csv', \"w\") as csv_file:\n",
    "    csv_file.write('id,Year,Total_Win,Total_Game,Home_Game,AFGP,ATPP,AFTP,ARBP,APTS,ATOV,FGP,TPP,FTP')\n",
    "    csv_file.write('\\n')\n",
    "\n",
    "    for key, value in final_dict.items():\n",
    "        csv_file.write(key)\n",
    "        for k, v in value.items():\n",
    "            if k in want:\n",
    "                csv_file.write(',' + str(v))\n",
    "        csv_file.write('\\n')"
   ]
  },
  {
   "cell_type": "code",
   "execution_count": null,
   "metadata": {},
   "outputs": [],
   "source": []
  }
 ],
 "metadata": {
  "kernelspec": {
   "display_name": "Python 3.8.3 ('base')",
   "language": "python",
   "name": "python3"
  },
  "language_info": {
   "codemirror_mode": {
    "name": "ipython",
    "version": 3
   },
   "file_extension": ".py",
   "mimetype": "text/x-python",
   "name": "python",
   "nbconvert_exporter": "python",
   "pygments_lexer": "ipython3",
   "version": "3.8.3"
  },
  "orig_nbformat": 4,
  "vscode": {
   "interpreter": {
    "hash": "1a8942254355011b4855040fa96581f943de60d105ea55fa7880c070ce84e175"
   }
  }
 },
 "nbformat": 4,
 "nbformat_minor": 2
}
